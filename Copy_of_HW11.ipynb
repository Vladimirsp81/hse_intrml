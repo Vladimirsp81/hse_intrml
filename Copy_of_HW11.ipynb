{
  "nbformat": 4,
  "nbformat_minor": 0,
  "metadata": {
    "colab": {
      "name": "Copy of HW11.ipynb",
      "provenance": [],
      "collapsed_sections": [],
      "machine_shape": "hm",
      "include_colab_link": true
    },
    "kernelspec": {
      "name": "python3",
      "display_name": "Python 3"
    }
  },
  "cells": [
    {
      "cell_type": "markdown",
      "metadata": {
        "id": "view-in-github",
        "colab_type": "text"
      },
      "source": [
        "<a href=\"https://colab.research.google.com/github/Vladimirsp81/hse_intrml/blob/master/Copy_of_HW11.ipynb\" target=\"_parent\"><img src=\"https://colab.research.google.com/assets/colab-badge.svg\" alt=\"Open In Colab\"/></a>"
      ]
    },
    {
      "cell_type": "markdown",
      "metadata": {
        "id": "ychQcodwwgfp",
        "colab_type": "text"
      },
      "source": [
        "В этом задании мы найдем похожие фильмы и пользователей по алгоритму ALS, реализуем подсчет метрики NDCG и исследуем влияние размерности скрытых представлений на работу алгоритма."
      ]
    },
    {
      "cell_type": "markdown",
      "metadata": {
        "id": "KGJjO0IwxAfE",
        "colab_type": "text"
      },
      "source": [
        "Загрузим данные и модели из семинара:\n",
        "\n",
        "**Важно: не изменяйте код до задания 1!**"
      ]
    },
    {
      "cell_type": "code",
      "metadata": {
        "id": "HLW7bd6zw9zr",
        "colab_type": "code",
        "colab": {}
      },
      "source": [
        "import zipfile\n",
        "from collections import defaultdict, Counter\n",
        "import datetime\n",
        "\n",
        "from scipy import linalg\n",
        "import numpy as np"
      ],
      "execution_count": 0,
      "outputs": []
    },
    {
      "cell_type": "code",
      "metadata": {
        "id": "zEjB8eDVxLHT",
        "colab_type": "code",
        "outputId": "4338ed34-5be0-4d33-d680-51024df236cf",
        "colab": {
          "base_uri": "https://localhost:8080/",
          "height": 204
        }
      },
      "source": [
        "!wget http://files.grouplens.org/datasets/movielens/ml-1m.zip"
      ],
      "execution_count": 2,
      "outputs": [
        {
          "output_type": "stream",
          "text": [
            "--2020-04-20 07:08:15--  http://files.grouplens.org/datasets/movielens/ml-1m.zip\n",
            "Resolving files.grouplens.org (files.grouplens.org)... 128.101.65.152\n",
            "Connecting to files.grouplens.org (files.grouplens.org)|128.101.65.152|:80... connected.\n",
            "HTTP request sent, awaiting response... 200 OK\n",
            "Length: 5917549 (5.6M) [application/zip]\n",
            "Saving to: ‘ml-1m.zip’\n",
            "\n",
            "\rml-1m.zip             0%[                    ]       0  --.-KB/s               \rml-1m.zip             0%[                    ]  47.75K   229KB/s               \rml-1m.zip             3%[                    ] 194.81K   467KB/s               \rml-1m.zip            13%[=>                  ] 803.79K  1.25MB/s               \rml-1m.zip            55%[==========>         ]   3.12M  3.73MB/s               \rml-1m.zip           100%[===================>]   5.64M  6.61MB/s    in 0.9s    \n",
            "\n",
            "2020-04-20 07:08:17 (6.61 MB/s) - ‘ml-1m.zip’ saved [5917549/5917549]\n",
            "\n"
          ],
          "name": "stdout"
        }
      ]
    },
    {
      "cell_type": "code",
      "metadata": {
        "id": "CtB8oYg7qBzn",
        "colab_type": "code",
        "colab": {}
      },
      "source": [
        "# read data\n",
        "movies = {} # id\n",
        "users = {} # id\n",
        "ratings = defaultdict(list) # user-id\n",
        "\n",
        "with zipfile.ZipFile(\"ml-1m.zip\", \"r\") as z:\n",
        "    # parse movies\n",
        "    with z.open(\"ml-1m/movies.dat\") as m:\n",
        "        for line in m:\n",
        "            MovieID, Title, Genres = line.decode('iso-8859-1').strip().split(\"::\")\n",
        "            MovieID = int(MovieID)\n",
        "            Genres = Genres.split(\"|\")\n",
        "            movies[MovieID] = {\"Title\": Title, \"Genres\": Genres}\n",
        "    \n",
        "    # parse users\n",
        "    with z.open(\"ml-1m/users.dat\") as m:\n",
        "        fields = [\"UserID\", \"Gender\", \"Age\", \"Occupation\", \"Zip-code\"]\n",
        "        for line in m:\n",
        "            row = list(zip(fields, line.decode('iso-8859-1').strip().split(\"::\")))\n",
        "            data = dict(row[1:])\n",
        "            data[\"Occupation\"] = int(data[\"Occupation\"])\n",
        "            users[int(row[0][1])] = data\n",
        "    \n",
        "    # parse ratings\n",
        "    with z.open(\"ml-1m/ratings.dat\") as m:\n",
        "        for line in m:\n",
        "            UserID, MovieID, Rating, Timestamp = line.decode('iso-8859-1').strip().split(\"::\")\n",
        "            UserID = int(UserID)\n",
        "            MovieID = int(MovieID)\n",
        "            Rating = int(Rating)\n",
        "            Timestamp = int(Timestamp)\n",
        "            ratings[UserID].append((MovieID, Rating, datetime.datetime.fromtimestamp(Timestamp)))"
      ],
      "execution_count": 0,
      "outputs": []
    },
    {
      "cell_type": "code",
      "metadata": {
        "id": "x-JKj56U3myp",
        "colab_type": "code",
        "outputId": "eae22113-abc0-42e2-9352-dd3454e9c46b",
        "colab": {
          "base_uri": "https://localhost:8080/",
          "height": 51
        }
      },
      "source": [
        "# train-test split\n",
        "times = []\n",
        "for user_ratings in ratings.values():\n",
        "  times.extend([x[2] for x in user_ratings])\n",
        "times = sorted(times)\n",
        "threshold_time = times[int(0.8 * len(times))]\n",
        "\n",
        "train = []\n",
        "test = []\n",
        "for user_id, user_ratings in ratings.items():\n",
        "    train.extend((user_id, rating[0], rating[1] / 5.0) for rating in user_ratings if rating[2] <= threshold_time)\n",
        "    test.extend((user_id, rating[0], rating[1] / 5.0) for rating in user_ratings if rating[2] > threshold_time)\n",
        "print(\"ratings in train:\", len(train))\n",
        "print(\"ratings in test:\", len(test))"
      ],
      "execution_count": 4,
      "outputs": [
        {
          "output_type": "stream",
          "text": [
            "ratings in train: 800168\n",
            "ratings in test: 200041\n"
          ],
          "name": "stdout"
        }
      ]
    },
    {
      "cell_type": "code",
      "metadata": {
        "id": "RNp-TT5M5JxM",
        "colab_type": "code",
        "colab": {}
      },
      "source": [
        "train_by_user = defaultdict(list)\n",
        "test_by_user = defaultdict(list)\n",
        "for u, i, r in train:\n",
        "    train_by_user[u].append((i, r))\n",
        "for u, i, r in test:\n",
        "    test_by_user[u].append((i, r))\n",
        "\n",
        "train_by_item = defaultdict(list)\n",
        "for u, i, r in train:\n",
        "    train_by_item[i].append((u, r))\n",
        "\n",
        "n_users = max([e[0] for e in train]) + 1\n",
        "n_items = max([e[1] for e in train]) + 1"
      ],
      "execution_count": 0,
      "outputs": []
    },
    {
      "cell_type": "code",
      "metadata": {
        "id": "VfdfoRQH3SYE",
        "colab_type": "code",
        "outputId": "b7ac0192-4cc6-4b89-f2b2-8476983e0355",
        "colab": {
          "base_uri": "https://localhost:8080/",
          "height": 34
        }
      },
      "source": [
        "len(train)"
      ],
      "execution_count": 6,
      "outputs": [
        {
          "output_type": "execute_result",
          "data": {
            "text/plain": [
              "800168"
            ]
          },
          "metadata": {
            "tags": []
          },
          "execution_count": 6
        }
      ]
    },
    {
      "cell_type": "code",
      "metadata": {
        "id": "uUOWdv1nraZ0",
        "colab_type": "code",
        "outputId": "946d76b9-89e8-45b4-9dd2-da1917269046",
        "colab": {
          "base_uri": "https://localhost:8080/",
          "height": 391
        }
      },
      "source": [
        "%%time\n",
        "# Реализация ALS из семинара\n",
        "np.random.seed(0)\n",
        "\n",
        "LATENT_SIZE = 10\n",
        "N_ITER = 20\n",
        "\n",
        "# регуляризаторы\n",
        "lambda_p = 0.2\n",
        "lambda_q = 0.001\n",
        "\n",
        "# латентные представления\n",
        "p = 0.1 * np.random.random((n_users, LATENT_SIZE))\n",
        "q = 0.1 * np.random.random((n_items, LATENT_SIZE))\n",
        "\n",
        "\n",
        "def compute_p(p, q, train_by_user): # обновляем вектора p\n",
        "    for u, rated in train_by_user.items():\n",
        "        rated_items = [i for i, _ in rated] # получаем фильмы, которые были оценены\n",
        "        rated_scores = np.array([r for _, r in rated]) # полчуаем все проставленные оценки\n",
        "        Q = q[rated_items, :] # получаем необходимые матрицы\n",
        "        A = (Q.T).dot(Q)\n",
        "        d = (Q.T).dot(rated_scores)\n",
        "        p[u, :] = np.linalg.solve(lambda_p * len(rated_items) * np.eye(LATENT_SIZE) + A, d)\n",
        "    return p\n",
        "\n",
        "def compute_q(p, q, train_by_item): # обновляем вектора q\n",
        "    for i, rated in train_by_item.items():\n",
        "        rated_users = [j for j, _ in rated] # получаем пользователей, оценивших данные товары\n",
        "        rated_scores = np.array([s for _, s in rated]) # полчуаем все проставленные оценки\n",
        "        P = p[rated_users, :]\n",
        "        A = (P.T).dot(P)\n",
        "        d = (P.T).dot(rated_scores)\n",
        "        q[i, :] = np.linalg.solve(lambda_q * len(rated_users) * np.eye(LATENT_SIZE) + A, d)\n",
        "    return q\n",
        "\n",
        "def train_error_mse(predictions):\n",
        "    return np.mean([(predictions[u, i] - r) ** 2 for u, i, r in train])\n",
        "\n",
        "def test_error_mse(predictions):\n",
        "    return np.mean([(predictions[u, i] - r) ** 2 for u, i, r in test])\n",
        "\n",
        "\n",
        "for iter in range(N_ITER):\n",
        "    p = compute_p(p, q, train_by_user)\n",
        "    q = compute_q(p, q, train_by_item)\n",
        "\n",
        "    predictions = p.dot(q.T)\n",
        "    \n",
        "    print(iter, train_error_mse(predictions), test_error_mse(predictions))"
      ],
      "execution_count": 7,
      "outputs": [
        {
          "output_type": "stream",
          "text": [
            "0 0.03425406699095001 0.1616104849721295\n",
            "1 0.03064574098418202 0.15155084906221655\n",
            "2 0.027045334327151112 0.14384734040494065\n",
            "3 0.02581328887305122 0.136973144989905\n",
            "4 0.02534761314306038 0.1307756696408036\n",
            "5 0.025096380135403468 0.12524794035311046\n",
            "6 0.02493404752684068 0.12031008916560113\n",
            "7 0.024820279964542055 0.11587970123247357\n",
            "8 0.024737480905353874 0.11188957847429634\n",
            "9 0.024677350034760348 0.10828592317903526\n",
            "10 0.024634483994446354 0.10502502426863122\n",
            "11 0.02460436140476344 0.10207014908552932\n",
            "12 0.02458334633120588 0.0993895019057131\n",
            "13 0.0245687550997932 0.09695506282023521\n",
            "14 0.024558698531058895 0.09474199207447909\n",
            "15 0.024551877533063884 0.09272824318660164\n",
            "16 0.02454739123798564 0.09089423607528803\n",
            "17 0.02454460512475215 0.08922255977615283\n",
            "18 0.024543066824492785 0.08769769701279083\n",
            "19 0.024542448316282727 0.08630578168734004\n",
            "CPU times: user 1min 5s, sys: 1min 20s, total: 2min 26s\n",
            "Wall time: 50.3 s\n"
          ],
          "name": "stdout"
        }
      ]
    },
    {
      "cell_type": "markdown",
      "metadata": {
        "id": "jHSZg06G6nzZ",
        "colab_type": "text"
      },
      "source": [
        "## Задание 1\n",
        "\n",
        "Для фильма \"Star Wars: Episode V - The Empire Strikes Back (1980)\" найдите 3 самых похожих фильма: \n",
        "* посчитайте скалярное произведение его эмбеддинга с остальными фильмами;\n",
        "* найдите максимальные значения - они будут соответствовать ближайшим фильмам;\n",
        "* вычислите значение id_top1+id_top2+id_top3.\n",
        "\n",
        "Для решения задания вам пригодится словарь со всеми фильмами `movies`"
      ]
    },
    {
      "cell_type": "code",
      "metadata": {
        "id": "zR5RjjiyPb5F",
        "colab_type": "code",
        "outputId": "42585a80-3188-4b7f-d0d6-ad9fc0f39960",
        "colab": {
          "base_uri": "https://localhost:8080/",
          "height": 34
        }
      },
      "source": [
        "sw = 0\n",
        "\n",
        "for id, film in movies.items():\n",
        "  for genres, title in film.items():\n",
        "    if title == 'Star Wars: Episode V - The Empire Strikes Back (1980)':\n",
        "      sw = id\n",
        "\n",
        "sw"
      ],
      "execution_count": 8,
      "outputs": [
        {
          "output_type": "execute_result",
          "data": {
            "text/plain": [
              "1196"
            ]
          },
          "metadata": {
            "tags": []
          },
          "execution_count": 8
        }
      ]
    },
    {
      "cell_type": "code",
      "metadata": {
        "id": "lSogEQ_Xtmkj",
        "colab_type": "code",
        "colab": {}
      },
      "source": [
        "qdots = [k.dot(q[sw]) for k in q]"
      ],
      "execution_count": 0,
      "outputs": []
    },
    {
      "cell_type": "code",
      "metadata": {
        "id": "cxXVM0idyMzM",
        "colab_type": "code",
        "outputId": "9f5c0c49-1b84-4b35-c7bf-9d9af4beef53",
        "colab": {
          "base_uri": "https://localhost:8080/",
          "height": 85
        }
      },
      "source": [
        "text = ('1:', '2:', '3:', '4:')\n",
        "for num,txt in zip(reversed(sorted(set(qdots))),text):\n",
        "    res = ','.join(map(str,[i for i,n in enumerate(qdots) if n == num]))\n",
        "    print(f'top {txt}  index: {res}')"
      ],
      "execution_count": 10,
      "outputs": [
        {
          "output_type": "stream",
          "text": [
            "top 1:  index: 260\n",
            "top 2:  index: 811\n",
            "top 3:  index: 1196\n",
            "top 4:  index: 1420\n"
          ],
          "name": "stdout"
        }
      ]
    },
    {
      "cell_type": "code",
      "metadata": {
        "id": "_pQocpY3yrw4",
        "colab_type": "code",
        "outputId": "79b195d8-fa39-4468-c564-35ec739262f1",
        "colab": {
          "base_uri": "https://localhost:8080/",
          "height": 153
        }
      },
      "source": [
        "movies[260], movies[811], movies[1196], qdots[260], qdots[811], qdots[1196]"
      ],
      "execution_count": 11,
      "outputs": [
        {
          "output_type": "execute_result",
          "data": {
            "text/plain": [
              "({'Genres': ['Action', 'Adventure', 'Fantasy', 'Sci-Fi'],\n",
              "  'Title': 'Star Wars: Episode IV - A New Hope (1977)'},\n",
              " {'Genres': ['Comedy'], 'Title': 'Bewegte Mann, Der (1994)'},\n",
              " {'Genres': ['Action', 'Adventure', 'Drama', 'Sci-Fi', 'War'],\n",
              "  'Title': 'Star Wars: Episode V - The Empire Strikes Back (1980)'},\n",
              " 13.081741551827605,\n",
              " 13.080453585316345,\n",
              " 12.71665027309701)"
            ]
          },
          "metadata": {
            "tags": []
          },
          "execution_count": 11
        }
      ]
    },
    {
      "cell_type": "markdown",
      "metadata": {
        "id": "DIqC8Vvc61oZ",
        "colab_type": "text"
      },
      "source": [
        "## Задание 2\n",
        "\n",
        "Для пользователя с ID=5472:\n",
        "\n",
        "* Найдите самого похожего, аналогично предыдущему заданию;\n",
        "* Определите количество фильмов, просмотренных обоими пользователями."
      ]
    },
    {
      "cell_type": "code",
      "metadata": {
        "id": "gJG4gh03lGkl",
        "colab_type": "code",
        "outputId": "8e2f4ee1-9140-4f82-c67c-7ff793158184",
        "colab": {
          "base_uri": "https://localhost:8080/",
          "height": 85
        }
      },
      "source": [
        "user = 5472\n",
        "pdots = [k.dot(p[user]) for k in p]\n",
        "\n",
        "text = ('1:', '2:', '3:', '4:')\n",
        "for num,txt in zip(reversed(sorted(set(pdots))),text):\n",
        "    res = ','.join(map(str,[i for i,n in enumerate(pdots) if n == num]))\n",
        "    print(f'top {txt}  index: {res}')"
      ],
      "execution_count": 13,
      "outputs": [
        {
          "output_type": "stream",
          "text": [
            "top 1:  index: 5072\n",
            "top 2:  index: 3799\n",
            "top 3:  index: 1221\n",
            "top 4:  index: 4565\n"
          ],
          "name": "stdout"
        }
      ]
    },
    {
      "cell_type": "code",
      "metadata": {
        "id": "jV7B72M0mG0v",
        "colab_type": "code",
        "outputId": "0010c2ec-b8e6-4a91-e637-e96a709be1fe",
        "colab": {
          "base_uri": "https://localhost:8080/",
          "height": 34
        }
      },
      "source": [
        "np.argmax(pdots)\n",
        "pdots[5072]"
      ],
      "execution_count": 14,
      "outputs": [
        {
          "output_type": "execute_result",
          "data": {
            "text/plain": [
              "0.07643871184402674"
            ]
          },
          "metadata": {
            "tags": []
          },
          "execution_count": 14
        }
      ]
    },
    {
      "cell_type": "code",
      "metadata": {
        "id": "euWuN4H0tJ49",
        "colab_type": "code",
        "colab": {}
      },
      "source": [
        "user1 = ratings[5072]\n",
        "user2 = ratings[5472]\n",
        "A = []\n",
        "B = []\n",
        "for us in user1:\n",
        "    A.append(us[0])\n",
        "\n",
        "for us in user2:\n",
        "  B.append(us[0])\n",
        "  \n",
        "A, B = np.array(A), np.array(B)"
      ],
      "execution_count": 0,
      "outputs": []
    },
    {
      "cell_type": "code",
      "metadata": {
        "id": "zF4yFk7RxtxH",
        "colab_type": "code",
        "outputId": "097bb1c3-ac47-48bf-ea7b-2cc0776a9802",
        "colab": {
          "base_uri": "https://localhost:8080/",
          "height": 34
        }
      },
      "source": [
        "C = np.intersect1d(A, B)\n",
        "len(C)"
      ],
      "execution_count": 16,
      "outputs": [
        {
          "output_type": "execute_result",
          "data": {
            "text/plain": [
              "27"
            ]
          },
          "metadata": {
            "tags": []
          },
          "execution_count": 16
        }
      ]
    },
    {
      "cell_type": "markdown",
      "metadata": {
        "id": "Ii1vd6YQ61rc",
        "colab_type": "text"
      },
      "source": [
        "## Задание 3\n",
        "\n",
        "На лекции была рассмотрена метрика для измерения качества работы рекомендательной системы NDCG. Вам необходимо реализовать подсчет DCG и NDCG и вывести значения из клетки ниже; ответ округлите до тысячных."
      ]
    },
    {
      "cell_type": "code",
      "metadata": {
        "id": "Da0CunPrp0R8",
        "colab_type": "code",
        "outputId": "effc7c90-e032-4278-bcd5-80f6934ecb2a",
        "colab": {
          "base_uri": "https://localhost:8080/",
          "height": 34
        }
      },
      "source": [
        "def DCG_k(ratings_list, k):\n",
        "    '''\n",
        "      ratings_list: np.array(n_items,)\n",
        "      k: int\n",
        "    '''\n",
        "    dsg = 0\n",
        "\n",
        "    inde = [x for x,_ in enumerate(ratings_list)]\n",
        "    rat = np.column_stack((ratings_list, inde))\n",
        "  \n",
        "    cnt = 0\n",
        "    for i in rat:\n",
        "      if cnt < k:\n",
        "        dsg_i = (2 ** (i[0]) - 1) / np.log2(i[1] + 2)\n",
        "        dsg += dsg_i\n",
        "        cnt += 1\n",
        "       \n",
        "    return dsg\n",
        "\n",
        "\n",
        "def NDCG_k(r, k):\n",
        "    '''\n",
        "      ratings_list: np.array(n_items,)\n",
        "      k: int\n",
        "    '''\n",
        "    z = sorted(r)\n",
        "    z.reverse()\n",
        "\n",
        "    ndsg = DCG_k(r, k) / DCG_k(z, k)\n",
        "    \n",
        "    return ndsg\n",
        "    \n",
        "NDCG_k([5, 5, 4, 5, 2, 4, 5, 3, 5, 5, 2, 3, 0, 0, 1, 2, 2, 3, 0], 5)"
      ],
      "execution_count": 22,
      "outputs": [
        {
          "output_type": "execute_result",
          "data": {
            "text/plain": [
              "0.7939669737892098"
            ]
          },
          "metadata": {
            "tags": []
          },
          "execution_count": 22
        }
      ]
    }
  ]
}