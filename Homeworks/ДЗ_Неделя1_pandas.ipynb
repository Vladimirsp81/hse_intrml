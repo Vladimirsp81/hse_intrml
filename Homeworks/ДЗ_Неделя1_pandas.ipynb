{
  "nbformat": 4,
  "nbformat_minor": 0,
  "metadata": {
    "kernelspec": {
      "name": "python3",
      "display_name": "Python 3"
    },
    "language_info": {
      "codemirror_mode": {
        "name": "ipython",
        "version": 3
      },
      "file_extension": ".py",
      "mimetype": "text/x-python",
      "name": "python",
      "nbconvert_exporter": "python",
      "pygments_lexer": "ipython3",
      "version": "3.6.3"
    },
    "colab": {
      "name": "ДЗ_Неделя1_pandas.ipynb",
      "provenance": [],
      "collapsed_sections": [],
      "include_colab_link": true
    },
    "accelerator": "TPU"
  },
  "cells": [
    {
      "cell_type": "markdown",
      "metadata": {
        "id": "view-in-github",
        "colab_type": "text"
      },
      "source": [
        "<a href=\"https://colab.research.google.com/github/Vladimirsp81/hse_intrml/blob/master/%D0%94%D0%97_%D0%9D%D0%B5%D0%B4%D0%B5%D0%BB%D1%8F1_pandas.ipynb\" target=\"_parent\"><img src=\"https://colab.research.google.com/assets/colab-badge.svg\" alt=\"Open In Colab\"/></a>"
      ]
    },
    {
      "cell_type": "code",
      "metadata": {
        "id": "DVuzDDo5XDcH",
        "colab_type": "code",
        "outputId": "df15e7e0-522f-4c1d-a5e1-8ce20e9343e6",
        "colab": {
          "base_uri": "https://localhost:8080/",
          "height": 326
        }
      },
      "source": [
        "# скачиваем файл\n",
        "!wget --no-check-certificate 'https://docs.google.com/uc?export=download&id=1cq9JDz8-zwzoGL6udiT_ogHHRWdnsd1q' -O math_students.csv"
      ],
      "execution_count": 1,
      "outputs": [
        {
          "output_type": "stream",
          "text": [
            "--2020-02-09 21:18:52--  https://docs.google.com/uc?export=download&id=1cq9JDz8-zwzoGL6udiT_ogHHRWdnsd1q\n",
            "Resolving docs.google.com (docs.google.com)... 74.125.129.101, 74.125.129.100, 74.125.129.113, ...\n",
            "Connecting to docs.google.com (docs.google.com)|74.125.129.101|:443... connected.\n",
            "HTTP request sent, awaiting response... 302 Moved Temporarily\n",
            "Location: https://doc-0g-5k-docs.googleusercontent.com/docs/securesc/ha0ro937gcuc7l7deffksulhg5h7mbp1/t58mbcnmav20b7up3er5kmv7b7n5k63q/1581282900000/07828702499945486090/*/1cq9JDz8-zwzoGL6udiT_ogHHRWdnsd1q?e=download [following]\n",
            "Warning: wildcards not supported in HTTP.\n",
            "--2020-02-09 21:18:52--  https://doc-0g-5k-docs.googleusercontent.com/docs/securesc/ha0ro937gcuc7l7deffksulhg5h7mbp1/t58mbcnmav20b7up3er5kmv7b7n5k63q/1581282900000/07828702499945486090/*/1cq9JDz8-zwzoGL6udiT_ogHHRWdnsd1q?e=download\n",
            "Resolving doc-0g-5k-docs.googleusercontent.com (doc-0g-5k-docs.googleusercontent.com)... 172.217.212.132, 2607:f8b0:4001:c03::84\n",
            "Connecting to doc-0g-5k-docs.googleusercontent.com (doc-0g-5k-docs.googleusercontent.com)|172.217.212.132|:443... connected.\n",
            "HTTP request sent, awaiting response... 200 OK\n",
            "Length: 42379 (41K) [text/csv]\n",
            "Saving to: ‘math_students.csv’\n",
            "\n",
            "math_students.csv   100%[===================>]  41.39K  --.-KB/s    in 0s      \n",
            "\n",
            "2020-02-09 21:18:53 (125 MB/s) - ‘math_students.csv’ saved [42379/42379]\n",
            "\n"
          ],
          "name": "stdout"
        }
      ]
    },
    {
      "cell_type": "code",
      "metadata": {
        "id": "mHCbkFpOXAXO",
        "colab_type": "code",
        "colab": {}
      },
      "source": [
        "import pandas as pd\n",
        "data = pd.read_csv('math_students.csv', delimiter=',')"
      ],
      "execution_count": 0,
      "outputs": []
    },
    {
      "cell_type": "code",
      "metadata": {
        "id": "tWuP9SCT0eZu",
        "colab_type": "code",
        "colab": {
          "base_uri": "https://localhost:8080/",
          "height": 102
        },
        "outputId": "2a680ce9-0983-4c60-f833-6e006e59cf4f"
      },
      "source": [
        "data.head()\n",
        "data['reason'].value_counts()"
      ],
      "execution_count": 4,
      "outputs": [
        {
          "output_type": "execute_result",
          "data": {
            "text/plain": [
              "course        145\n",
              "home          109\n",
              "reputation    105\n",
              "other          36\n",
              "Name: reason, dtype: int64"
            ]
          },
          "metadata": {
            "tags": []
          },
          "execution_count": 4
        }
      ]
    },
    {
      "cell_type": "markdown",
      "metadata": {
        "id": "1n6Q2mr1XAXX",
        "colab_type": "text"
      },
      "source": [
        "1. Какая причина выбора школы была самой частой? В качестве ответа приведите соответствующее значение признака."
      ]
    },
    {
      "cell_type": "code",
      "metadata": {
        "id": "D_jubmNgXAXY",
        "colab_type": "code",
        "colab": {}
      },
      "source": [
        "course"
      ],
      "execution_count": 0,
      "outputs": []
    },
    {
      "cell_type": "markdown",
      "metadata": {
        "id": "02xcWVw0XAXb",
        "colab_type": "text"
      },
      "source": [
        "2. Найдите количество студентов, у родителей которых нет никакого образования."
      ]
    },
    {
      "cell_type": "code",
      "metadata": {
        "id": "rQCZTAydXAXc",
        "colab_type": "code",
        "colab": {
          "base_uri": "https://localhost:8080/",
          "height": 34
        },
        "outputId": "2bbe3713-7340-49d0-bf6e-518782b908bf"
      },
      "source": [
        "data[(data['Medu'] == 0) | (data['Fedu'] == 0)].shape[0]"
      ],
      "execution_count": 19,
      "outputs": [
        {
          "output_type": "execute_result",
          "data": {
            "text/plain": [
              "5"
            ]
          },
          "metadata": {
            "tags": []
          },
          "execution_count": 19
        }
      ]
    },
    {
      "cell_type": "markdown",
      "metadata": {
        "id": "hPZhCWolXAXg",
        "colab_type": "text"
      },
      "source": [
        "3. Найдите минимальный возраст учащегося школы Mousinho da Silveira."
      ]
    },
    {
      "cell_type": "code",
      "metadata": {
        "id": "iwbblqO-XAXg",
        "colab_type": "code",
        "colab": {
          "base_uri": "https://localhost:8080/",
          "height": 297
        },
        "outputId": "8be09079-ee92-4007-8f30-e5725d18aa96"
      },
      "source": [
        "data[data['school'] == 'MS'].describe()"
      ],
      "execution_count": 21,
      "outputs": [
        {
          "output_type": "execute_result",
          "data": {
            "text/html": [
              "<div>\n",
              "<style scoped>\n",
              "    .dataframe tbody tr th:only-of-type {\n",
              "        vertical-align: middle;\n",
              "    }\n",
              "\n",
              "    .dataframe tbody tr th {\n",
              "        vertical-align: top;\n",
              "    }\n",
              "\n",
              "    .dataframe thead th {\n",
              "        text-align: right;\n",
              "    }\n",
              "</style>\n",
              "<table border=\"1\" class=\"dataframe\">\n",
              "  <thead>\n",
              "    <tr style=\"text-align: right;\">\n",
              "      <th></th>\n",
              "      <th>age</th>\n",
              "      <th>Medu</th>\n",
              "      <th>Fedu</th>\n",
              "      <th>traveltime</th>\n",
              "      <th>studytime</th>\n",
              "      <th>failures</th>\n",
              "      <th>famrel</th>\n",
              "      <th>freetime</th>\n",
              "      <th>goout</th>\n",
              "      <th>Dalc</th>\n",
              "      <th>Walc</th>\n",
              "      <th>health</th>\n",
              "      <th>absences</th>\n",
              "      <th>G1</th>\n",
              "      <th>G2</th>\n",
              "      <th>G3</th>\n",
              "    </tr>\n",
              "  </thead>\n",
              "  <tbody>\n",
              "    <tr>\n",
              "      <th>count</th>\n",
              "      <td>46.000000</td>\n",
              "      <td>46.000000</td>\n",
              "      <td>46.000000</td>\n",
              "      <td>46.000000</td>\n",
              "      <td>46.000000</td>\n",
              "      <td>46.000000</td>\n",
              "      <td>46.000000</td>\n",
              "      <td>46.000000</td>\n",
              "      <td>46.000000</td>\n",
              "      <td>46.000000</td>\n",
              "      <td>46.000000</td>\n",
              "      <td>46.000000</td>\n",
              "      <td>46.000000</td>\n",
              "      <td>46.000000</td>\n",
              "      <td>46.000000</td>\n",
              "      <td>46.000000</td>\n",
              "    </tr>\n",
              "    <tr>\n",
              "      <th>mean</th>\n",
              "      <td>18.021739</td>\n",
              "      <td>2.347826</td>\n",
              "      <td>2.282609</td>\n",
              "      <td>1.913043</td>\n",
              "      <td>1.826087</td>\n",
              "      <td>0.456522</td>\n",
              "      <td>3.826087</td>\n",
              "      <td>3.326087</td>\n",
              "      <td>3.086957</td>\n",
              "      <td>1.760870</td>\n",
              "      <td>2.521739</td>\n",
              "      <td>3.391304</td>\n",
              "      <td>3.760870</td>\n",
              "      <td>10.673913</td>\n",
              "      <td>10.195652</td>\n",
              "      <td>9.847826</td>\n",
              "    </tr>\n",
              "    <tr>\n",
              "      <th>std</th>\n",
              "      <td>0.881643</td>\n",
              "      <td>1.215043</td>\n",
              "      <td>1.128678</td>\n",
              "      <td>0.755015</td>\n",
              "      <td>0.708813</td>\n",
              "      <td>0.808470</td>\n",
              "      <td>1.060489</td>\n",
              "      <td>1.096547</td>\n",
              "      <td>1.050420</td>\n",
              "      <td>1.078781</td>\n",
              "      <td>1.110338</td>\n",
              "      <td>1.452634</td>\n",
              "      <td>4.274913</td>\n",
              "      <td>3.347001</td>\n",
              "      <td>3.377175</td>\n",
              "      <td>4.237229</td>\n",
              "    </tr>\n",
              "    <tr>\n",
              "      <th>min</th>\n",
              "      <td>17.000000</td>\n",
              "      <td>1.000000</td>\n",
              "      <td>1.000000</td>\n",
              "      <td>1.000000</td>\n",
              "      <td>1.000000</td>\n",
              "      <td>0.000000</td>\n",
              "      <td>1.000000</td>\n",
              "      <td>1.000000</td>\n",
              "      <td>1.000000</td>\n",
              "      <td>1.000000</td>\n",
              "      <td>1.000000</td>\n",
              "      <td>1.000000</td>\n",
              "      <td>0.000000</td>\n",
              "      <td>6.000000</td>\n",
              "      <td>5.000000</td>\n",
              "      <td>0.000000</td>\n",
              "    </tr>\n",
              "    <tr>\n",
              "      <th>25%</th>\n",
              "      <td>17.250000</td>\n",
              "      <td>1.000000</td>\n",
              "      <td>1.000000</td>\n",
              "      <td>1.000000</td>\n",
              "      <td>1.000000</td>\n",
              "      <td>0.000000</td>\n",
              "      <td>3.000000</td>\n",
              "      <td>3.000000</td>\n",
              "      <td>2.000000</td>\n",
              "      <td>1.000000</td>\n",
              "      <td>2.000000</td>\n",
              "      <td>2.250000</td>\n",
              "      <td>0.000000</td>\n",
              "      <td>8.000000</td>\n",
              "      <td>8.000000</td>\n",
              "      <td>8.000000</td>\n",
              "    </tr>\n",
              "    <tr>\n",
              "      <th>50%</th>\n",
              "      <td>18.000000</td>\n",
              "      <td>2.000000</td>\n",
              "      <td>2.000000</td>\n",
              "      <td>2.000000</td>\n",
              "      <td>2.000000</td>\n",
              "      <td>0.000000</td>\n",
              "      <td>4.000000</td>\n",
              "      <td>3.000000</td>\n",
              "      <td>3.000000</td>\n",
              "      <td>1.000000</td>\n",
              "      <td>3.000000</td>\n",
              "      <td>3.000000</td>\n",
              "      <td>3.000000</td>\n",
              "      <td>10.500000</td>\n",
              "      <td>10.000000</td>\n",
              "      <td>10.000000</td>\n",
              "    </tr>\n",
              "    <tr>\n",
              "      <th>75%</th>\n",
              "      <td>18.000000</td>\n",
              "      <td>3.000000</td>\n",
              "      <td>3.000000</td>\n",
              "      <td>2.000000</td>\n",
              "      <td>2.000000</td>\n",
              "      <td>1.000000</td>\n",
              "      <td>5.000000</td>\n",
              "      <td>4.000000</td>\n",
              "      <td>4.000000</td>\n",
              "      <td>2.000000</td>\n",
              "      <td>3.000000</td>\n",
              "      <td>5.000000</td>\n",
              "      <td>4.750000</td>\n",
              "      <td>13.000000</td>\n",
              "      <td>12.750000</td>\n",
              "      <td>12.750000</td>\n",
              "    </tr>\n",
              "    <tr>\n",
              "      <th>max</th>\n",
              "      <td>21.000000</td>\n",
              "      <td>4.000000</td>\n",
              "      <td>4.000000</td>\n",
              "      <td>4.000000</td>\n",
              "      <td>3.000000</td>\n",
              "      <td>3.000000</td>\n",
              "      <td>5.000000</td>\n",
              "      <td>5.000000</td>\n",
              "      <td>5.000000</td>\n",
              "      <td>5.000000</td>\n",
              "      <td>5.000000</td>\n",
              "      <td>5.000000</td>\n",
              "      <td>17.000000</td>\n",
              "      <td>19.000000</td>\n",
              "      <td>18.000000</td>\n",
              "      <td>19.000000</td>\n",
              "    </tr>\n",
              "  </tbody>\n",
              "</table>\n",
              "</div>"
            ],
            "text/plain": [
              "             age       Medu       Fedu  ...         G1         G2         G3\n",
              "count  46.000000  46.000000  46.000000  ...  46.000000  46.000000  46.000000\n",
              "mean   18.021739   2.347826   2.282609  ...  10.673913  10.195652   9.847826\n",
              "std     0.881643   1.215043   1.128678  ...   3.347001   3.377175   4.237229\n",
              "min    17.000000   1.000000   1.000000  ...   6.000000   5.000000   0.000000\n",
              "25%    17.250000   1.000000   1.000000  ...   8.000000   8.000000   8.000000\n",
              "50%    18.000000   2.000000   2.000000  ...  10.500000  10.000000  10.000000\n",
              "75%    18.000000   3.000000   3.000000  ...  13.000000  12.750000  12.750000\n",
              "max    21.000000   4.000000   4.000000  ...  19.000000  18.000000  19.000000\n",
              "\n",
              "[8 rows x 16 columns]"
            ]
          },
          "metadata": {
            "tags": []
          },
          "execution_count": 21
        }
      ]
    },
    {
      "cell_type": "markdown",
      "metadata": {
        "id": "cINy8kq-XAXk",
        "colab_type": "text"
      },
      "source": [
        "4. Найдите количество студентов, имеющих нечетное число пропусков."
      ]
    },
    {
      "cell_type": "code",
      "metadata": {
        "id": "0SPhqD6GXAXl",
        "colab_type": "code",
        "colab": {
          "base_uri": "https://localhost:8080/",
          "height": 34
        },
        "outputId": "811a770c-8315-425a-a4b9-9dda6e5d2cbd"
      },
      "source": [
        "data[(data['absences'] % 2) !=0].shape[0]"
      ],
      "execution_count": 24,
      "outputs": [
        {
          "output_type": "execute_result",
          "data": {
            "text/plain": [
              "41"
            ]
          },
          "metadata": {
            "tags": []
          },
          "execution_count": 24
        }
      ]
    },
    {
      "cell_type": "markdown",
      "metadata": {
        "id": "cGd3eKvcXAXo",
        "colab_type": "text"
      },
      "source": [
        "5. Найдите разность между средними итоговыми оценками студентов, состоящих и не состоящих в романтических отношениях. В качестве ответа приведите число, округленное до двух значащих цифр после запятой."
      ]
    },
    {
      "cell_type": "code",
      "metadata": {
        "id": "tIrAEaCpXAXp",
        "colab_type": "code",
        "colab": {
          "base_uri": "https://localhost:8080/",
          "height": 34
        },
        "outputId": "f1de4ed1-6971-4175-ea04-55f6300f16af"
      },
      "source": [
        "romantic = data[data['romantic'] == 'yes']\n",
        "non_romantic = data[data['romantic'] == 'no']\n",
        "romantic_mean = romantic['G3'].mean()\n",
        "non_romantic_mean = non_romantic['G3'].mean()\n",
        "residual = romantic_mean - non_romantic_mean\n",
        "print(residual)"
      ],
      "execution_count": 36,
      "outputs": [
        {
          "output_type": "stream",
          "text": [
            "-1.2607443253831079\n"
          ],
          "name": "stdout"
        }
      ]
    },
    {
      "cell_type": "markdown",
      "metadata": {
        "id": "m7tyMSA7XAXs",
        "colab_type": "text"
      },
      "source": [
        "6. Сколько занятий пропустило большинство студентов с самым частым значением наличия внеклассных активностей?\n",
        "\n",
        "*Примечание. В данном контексте под \"большинством\" подразумеваются студенты, имеющее самое частое значение пропусков. То есть в данном задании необходимо:*\n",
        "\n",
        "\n",
        "* *Определить самое частое значение наличия внеклассных активностей (да или нет).*\n",
        "* *Для группы студентов, соответствующей этому значению, рассмотреть значения признака «число пропусков».*\n",
        "* *Для каждого значения числа пропусков посчитать, сколько студентов ему соответствует.*\n",
        "* *Выбрать значение числа пропусков с наибольшим числом студентов.*\n",
        "\n"
      ]
    },
    {
      "cell_type": "code",
      "metadata": {
        "id": "-nb9pAmdX4G9",
        "colab_type": "code",
        "colab": {
          "base_uri": "https://localhost:8080/",
          "height": 459
        },
        "outputId": "4df08255-4b78-46af-eeba-563a55e356d9"
      },
      "source": [
        "data['activities'].value_counts()\n",
        "active_stud = data[data['activities'] == 'yes']\n",
        "active_stud['absences'].value_counts()"
      ],
      "execution_count": 35,
      "outputs": [
        {
          "output_type": "execute_result",
          "data": {
            "text/plain": [
              "0     51\n",
              "2     37\n",
              "4     29\n",
              "6     17\n",
              "8     16\n",
              "10     9\n",
              "14     7\n",
              "3      4\n",
              "16     4\n",
              "7      3\n",
              "12     3\n",
              "15     3\n",
              "11     2\n",
              "9      2\n",
              "18     2\n",
              "20     2\n",
              "1      2\n",
              "13     1\n",
              "54     1\n",
              "17     1\n",
              "5      1\n",
              "22     1\n",
              "25     1\n",
              "30     1\n",
              "56     1\n",
              "Name: absences, dtype: int64"
            ]
          },
          "metadata": {
            "tags": []
          },
          "execution_count": 35
        }
      ]
    },
    {
      "cell_type": "code",
      "metadata": {
        "id": "Pjzd5Clx-SbX",
        "colab_type": "code",
        "colab": {}
      },
      "source": [
        "0"
      ],
      "execution_count": 0,
      "outputs": []
    }
  ]
}